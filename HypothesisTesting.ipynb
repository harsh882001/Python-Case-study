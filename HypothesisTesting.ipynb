{
 "cells": [
  {
   "cell_type": "code",
   "execution_count": 1,
   "id": "9c1096d8",
   "metadata": {},
   "outputs": [],
   "source": [
    "import pandas as pd\n",
    "import numpy as np\n",
    "from scipy import stats\n",
    "import matplotlib.pyplot as plt"
   ]
  },
  {
   "cell_type": "markdown",
   "id": "1087354e",
   "metadata": {},
   "source": [
    "Data cleaning"
   ]
  },
  {
   "cell_type": "code",
   "execution_count": 2,
   "id": "09425c52",
   "metadata": {},
   "outputs": [],
   "source": [
    "loans_df = pd.read_csv(\"LoansData.csv\")"
   ]
  },
  {
   "cell_type": "code",
   "execution_count": 3,
   "id": "25e911a4",
   "metadata": {},
   "outputs": [
    {
     "name": "stderr",
     "output_type": "stream",
     "text": [
      "C:\\Users\\sainiaal\\AppData\\Local\\Temp/ipykernel_2728/1262380196.py:1: FutureWarning: The default value of regex will change from True to False in a future version. In addition, single character regular expressions will *not* be treated as literal strings when regex=True.\n",
      "  loans_df.columns = loans_df.columns.str.replace(\".\",\"\")\n",
      "C:\\Users\\sainiaal\\AppData\\Local\\Temp/ipykernel_2728/1262380196.py:5: FutureWarning: The default value of regex will change from True to False in a future version. In addition, single character regular expressions will *not* be treated as literal strings when regex=True.\n",
      "  loans_df.EmploymentLength = loans_df.EmploymentLength.str.replace(\"< \",\"\").str.replace(\" years\",\"\").str.replace(\" year\",\"\").str.replace(\"+\",\"\").astype(float)\n"
     ]
    }
   ],
   "source": [
    "loans_df.columns = loans_df.columns.str.replace(\".\",\"\")\n",
    "loans_df.InterestRate=loans_df.InterestRate.str.replace(\"%\",\"\").astype(float)\n",
    "loans_df.DebtToIncomeRatio=loans_df.DebtToIncomeRatio.str.replace(\"%\",\"\").astype(float)\n",
    "\n",
    "loans_df.EmploymentLength = loans_df.EmploymentLength.str.replace(\"< \",\"\").str.replace(\" years\",\"\").str.replace(\" year\",\"\").str.replace(\"+\",\"\").astype(float)"
   ]
  },
  {
   "cell_type": "code",
   "execution_count": 4,
   "id": "c0c8851b",
   "metadata": {},
   "outputs": [],
   "source": [
    "for col in loans_df.select_dtypes(object).columns:\n",
    "    loans_df[col]=loans_df[col].fillna(loans_df[col].mode()[0])\n",
    "for col in loans_df.select_dtypes(\"number\").columns:\n",
    "    loans_df[col]=loans_df[col].fillna(loans_df[col].mean())"
   ]
  },
  {
   "cell_type": "code",
   "execution_count": 5,
   "id": "4c0a3bc2",
   "metadata": {},
   "outputs": [
    {
     "data": {
      "text/plain": [
       "AmountRequested              0\n",
       "AmountFundedByInvestors      0\n",
       "InterestRate                 0\n",
       "LoanLength                   0\n",
       "LoanPurpose                  0\n",
       "DebtToIncomeRatio            0\n",
       "State                        0\n",
       "HomeOwnership                0\n",
       "MonthlyIncome                0\n",
       "FICORange                    0\n",
       "OpenCREDITLines              0\n",
       "RevolvingCREDITBalance       0\n",
       "InquiriesintheLast6Months    0\n",
       "EmploymentLength             0\n",
       "dtype: int64"
      ]
     },
     "execution_count": 5,
     "metadata": {},
     "output_type": "execute_result"
    }
   ],
   "source": [
    "loans_df.isna().sum()"
   ]
  },
  {
   "cell_type": "code",
   "execution_count": 6,
   "id": "5d9a88b1",
   "metadata": {},
   "outputs": [
    {
     "data": {
      "text/html": [
       "<div>\n",
       "<style scoped>\n",
       "    .dataframe tbody tr th:only-of-type {\n",
       "        vertical-align: middle;\n",
       "    }\n",
       "\n",
       "    .dataframe tbody tr th {\n",
       "        vertical-align: top;\n",
       "    }\n",
       "\n",
       "    .dataframe thead th {\n",
       "        text-align: right;\n",
       "    }\n",
       "</style>\n",
       "<table border=\"1\" class=\"dataframe\">\n",
       "  <thead>\n",
       "    <tr style=\"text-align: right;\">\n",
       "      <th></th>\n",
       "      <th>count</th>\n",
       "      <th>mean</th>\n",
       "      <th>std</th>\n",
       "      <th>min</th>\n",
       "      <th>1%</th>\n",
       "      <th>50%</th>\n",
       "      <th>99%</th>\n",
       "      <th>max</th>\n",
       "    </tr>\n",
       "  </thead>\n",
       "  <tbody>\n",
       "    <tr>\n",
       "      <th>AmountRequested</th>\n",
       "      <td>2500.0</td>\n",
       "      <td>12405.462185</td>\n",
       "      <td>7801.372299</td>\n",
       "      <td>1000.00</td>\n",
       "      <td>1500.0000</td>\n",
       "      <td>10000.000000</td>\n",
       "      <td>35000.0000</td>\n",
       "      <td>35000.00</td>\n",
       "    </tr>\n",
       "    <tr>\n",
       "      <th>AmountFundedByInvestors</th>\n",
       "      <td>2500.0</td>\n",
       "      <td>12002.374186</td>\n",
       "      <td>7745.217219</td>\n",
       "      <td>-0.01</td>\n",
       "      <td>999.1728</td>\n",
       "      <td>10000.000000</td>\n",
       "      <td>35000.0000</td>\n",
       "      <td>35000.00</td>\n",
       "    </tr>\n",
       "    <tr>\n",
       "      <th>InterestRate</th>\n",
       "      <td>2500.0</td>\n",
       "      <td>13.065388</td>\n",
       "      <td>4.175529</td>\n",
       "      <td>5.42</td>\n",
       "      <td>5.9880</td>\n",
       "      <td>13.110000</td>\n",
       "      <td>22.9533</td>\n",
       "      <td>24.89</td>\n",
       "    </tr>\n",
       "    <tr>\n",
       "      <th>DebtToIncomeRatio</th>\n",
       "      <td>2500.0</td>\n",
       "      <td>15.380420</td>\n",
       "      <td>7.503551</td>\n",
       "      <td>0.00</td>\n",
       "      <td>0.7190</td>\n",
       "      <td>15.320000</td>\n",
       "      <td>33.2300</td>\n",
       "      <td>34.91</td>\n",
       "    </tr>\n",
       "    <tr>\n",
       "      <th>MonthlyIncome</th>\n",
       "      <td>2500.0</td>\n",
       "      <td>5688.931321</td>\n",
       "      <td>3962.325165</td>\n",
       "      <td>588.50</td>\n",
       "      <td>1416.5366</td>\n",
       "      <td>5000.000000</td>\n",
       "      <td>18750.0000</td>\n",
       "      <td>102750.00</td>\n",
       "    </tr>\n",
       "    <tr>\n",
       "      <th>OpenCREDITLines</th>\n",
       "      <td>2500.0</td>\n",
       "      <td>10.072887</td>\n",
       "      <td>4.504710</td>\n",
       "      <td>2.00</td>\n",
       "      <td>3.0000</td>\n",
       "      <td>9.000000</td>\n",
       "      <td>23.0000</td>\n",
       "      <td>38.00</td>\n",
       "    </tr>\n",
       "    <tr>\n",
       "      <th>RevolvingCREDITBalance</th>\n",
       "      <td>2500.0</td>\n",
       "      <td>15223.184622</td>\n",
       "      <td>18270.038964</td>\n",
       "      <td>0.00</td>\n",
       "      <td>0.0000</td>\n",
       "      <td>10977.500000</td>\n",
       "      <td>92407.6600</td>\n",
       "      <td>270800.00</td>\n",
       "    </tr>\n",
       "    <tr>\n",
       "      <th>InquiriesintheLast6Months</th>\n",
       "      <td>2500.0</td>\n",
       "      <td>0.906688</td>\n",
       "      <td>1.230410</td>\n",
       "      <td>0.00</td>\n",
       "      <td>0.0000</td>\n",
       "      <td>0.906688</td>\n",
       "      <td>5.0000</td>\n",
       "      <td>9.00</td>\n",
       "    </tr>\n",
       "    <tr>\n",
       "      <th>EmploymentLength</th>\n",
       "      <td>2500.0</td>\n",
       "      <td>5.491952</td>\n",
       "      <td>3.388514</td>\n",
       "      <td>1.00</td>\n",
       "      <td>1.0000</td>\n",
       "      <td>5.000000</td>\n",
       "      <td>10.0000</td>\n",
       "      <td>10.00</td>\n",
       "    </tr>\n",
       "  </tbody>\n",
       "</table>\n",
       "</div>"
      ],
      "text/plain": [
       "                            count          mean           std      min  \\\n",
       "AmountRequested            2500.0  12405.462185   7801.372299  1000.00   \n",
       "AmountFundedByInvestors    2500.0  12002.374186   7745.217219    -0.01   \n",
       "InterestRate               2500.0     13.065388      4.175529     5.42   \n",
       "DebtToIncomeRatio          2500.0     15.380420      7.503551     0.00   \n",
       "MonthlyIncome              2500.0   5688.931321   3962.325165   588.50   \n",
       "OpenCREDITLines            2500.0     10.072887      4.504710     2.00   \n",
       "RevolvingCREDITBalance     2500.0  15223.184622  18270.038964     0.00   \n",
       "InquiriesintheLast6Months  2500.0      0.906688      1.230410     0.00   \n",
       "EmploymentLength           2500.0      5.491952      3.388514     1.00   \n",
       "\n",
       "                                  1%           50%         99%        max  \n",
       "AmountRequested            1500.0000  10000.000000  35000.0000   35000.00  \n",
       "AmountFundedByInvestors     999.1728  10000.000000  35000.0000   35000.00  \n",
       "InterestRate                  5.9880     13.110000     22.9533      24.89  \n",
       "DebtToIncomeRatio             0.7190     15.320000     33.2300      34.91  \n",
       "MonthlyIncome              1416.5366   5000.000000  18750.0000  102750.00  \n",
       "OpenCREDITLines               3.0000      9.000000     23.0000      38.00  \n",
       "RevolvingCREDITBalance        0.0000  10977.500000  92407.6600  270800.00  \n",
       "InquiriesintheLast6Months     0.0000      0.906688      5.0000       9.00  \n",
       "EmploymentLength              1.0000      5.000000     10.0000      10.00  "
      ]
     },
     "execution_count": 6,
     "metadata": {},
     "output_type": "execute_result"
    }
   ],
   "source": [
    "loans_df.describe(percentiles=[0.01,0.99]).T"
   ]
  },
  {
   "cell_type": "code",
   "execution_count": 7,
   "id": "cac79557",
   "metadata": {},
   "outputs": [],
   "source": [
    "for col in [\"MonthlyIncome\",\"OpenCREDITLines\",\"RevolvingCREDITBalance\"]:\n",
    "    upp_cut = loans_df[col].quantile(0.99)\n",
    "    low_cut = loans_df[col].quantile(0.01)\n",
    "    loans_df[col] = loans_df[col].clip(low_cut,upp_cut)"
   ]
  },
  {
   "cell_type": "code",
   "execution_count": 8,
   "id": "fbba8815",
   "metadata": {},
   "outputs": [
    {
     "data": {
      "text/html": [
       "<div>\n",
       "<style scoped>\n",
       "    .dataframe tbody tr th:only-of-type {\n",
       "        vertical-align: middle;\n",
       "    }\n",
       "\n",
       "    .dataframe tbody tr th {\n",
       "        vertical-align: top;\n",
       "    }\n",
       "\n",
       "    .dataframe thead th {\n",
       "        text-align: right;\n",
       "    }\n",
       "</style>\n",
       "<table border=\"1\" class=\"dataframe\">\n",
       "  <thead>\n",
       "    <tr style=\"text-align: right;\">\n",
       "      <th></th>\n",
       "      <th>count</th>\n",
       "      <th>mean</th>\n",
       "      <th>std</th>\n",
       "      <th>min</th>\n",
       "      <th>25%</th>\n",
       "      <th>50%</th>\n",
       "      <th>75%</th>\n",
       "      <th>max</th>\n",
       "    </tr>\n",
       "  </thead>\n",
       "  <tbody>\n",
       "    <tr>\n",
       "      <th>AmountRequested</th>\n",
       "      <td>2500.0</td>\n",
       "      <td>12405.462185</td>\n",
       "      <td>7801.372299</td>\n",
       "      <td>1000.0000</td>\n",
       "      <td>6000.00</td>\n",
       "      <td>10000.000000</td>\n",
       "      <td>17000.0000</td>\n",
       "      <td>35000.00</td>\n",
       "    </tr>\n",
       "    <tr>\n",
       "      <th>AmountFundedByInvestors</th>\n",
       "      <td>2500.0</td>\n",
       "      <td>12002.374186</td>\n",
       "      <td>7745.217219</td>\n",
       "      <td>-0.0100</td>\n",
       "      <td>6000.00</td>\n",
       "      <td>10000.000000</td>\n",
       "      <td>16000.0000</td>\n",
       "      <td>35000.00</td>\n",
       "    </tr>\n",
       "    <tr>\n",
       "      <th>InterestRate</th>\n",
       "      <td>2500.0</td>\n",
       "      <td>13.065388</td>\n",
       "      <td>4.175529</td>\n",
       "      <td>5.4200</td>\n",
       "      <td>10.16</td>\n",
       "      <td>13.110000</td>\n",
       "      <td>15.8000</td>\n",
       "      <td>24.89</td>\n",
       "    </tr>\n",
       "    <tr>\n",
       "      <th>DebtToIncomeRatio</th>\n",
       "      <td>2500.0</td>\n",
       "      <td>15.380420</td>\n",
       "      <td>7.503551</td>\n",
       "      <td>0.0000</td>\n",
       "      <td>9.75</td>\n",
       "      <td>15.320000</td>\n",
       "      <td>20.6725</td>\n",
       "      <td>34.91</td>\n",
       "    </tr>\n",
       "    <tr>\n",
       "      <th>MonthlyIncome</th>\n",
       "      <td>2500.0</td>\n",
       "      <td>5608.582367</td>\n",
       "      <td>3083.750057</td>\n",
       "      <td>1416.5366</td>\n",
       "      <td>3500.00</td>\n",
       "      <td>5000.000000</td>\n",
       "      <td>6800.0000</td>\n",
       "      <td>18750.00</td>\n",
       "    </tr>\n",
       "    <tr>\n",
       "      <th>OpenCREDITLines</th>\n",
       "      <td>2500.0</td>\n",
       "      <td>10.054087</td>\n",
       "      <td>4.377253</td>\n",
       "      <td>3.0000</td>\n",
       "      <td>7.00</td>\n",
       "      <td>9.000000</td>\n",
       "      <td>13.0000</td>\n",
       "      <td>23.00</td>\n",
       "    </tr>\n",
       "    <tr>\n",
       "      <th>RevolvingCREDITBalance</th>\n",
       "      <td>2500.0</td>\n",
       "      <td>14769.469222</td>\n",
       "      <td>14756.904656</td>\n",
       "      <td>0.0000</td>\n",
       "      <td>5589.25</td>\n",
       "      <td>10977.500000</td>\n",
       "      <td>18843.7500</td>\n",
       "      <td>92407.66</td>\n",
       "    </tr>\n",
       "    <tr>\n",
       "      <th>InquiriesintheLast6Months</th>\n",
       "      <td>2500.0</td>\n",
       "      <td>0.906688</td>\n",
       "      <td>1.230410</td>\n",
       "      <td>0.0000</td>\n",
       "      <td>0.00</td>\n",
       "      <td>0.906688</td>\n",
       "      <td>1.0000</td>\n",
       "      <td>9.00</td>\n",
       "    </tr>\n",
       "    <tr>\n",
       "      <th>EmploymentLength</th>\n",
       "      <td>2500.0</td>\n",
       "      <td>5.491952</td>\n",
       "      <td>3.388514</td>\n",
       "      <td>1.0000</td>\n",
       "      <td>2.00</td>\n",
       "      <td>5.000000</td>\n",
       "      <td>10.0000</td>\n",
       "      <td>10.00</td>\n",
       "    </tr>\n",
       "  </tbody>\n",
       "</table>\n",
       "</div>"
      ],
      "text/plain": [
       "                            count          mean           std        min  \\\n",
       "AmountRequested            2500.0  12405.462185   7801.372299  1000.0000   \n",
       "AmountFundedByInvestors    2500.0  12002.374186   7745.217219    -0.0100   \n",
       "InterestRate               2500.0     13.065388      4.175529     5.4200   \n",
       "DebtToIncomeRatio          2500.0     15.380420      7.503551     0.0000   \n",
       "MonthlyIncome              2500.0   5608.582367   3083.750057  1416.5366   \n",
       "OpenCREDITLines            2500.0     10.054087      4.377253     3.0000   \n",
       "RevolvingCREDITBalance     2500.0  14769.469222  14756.904656     0.0000   \n",
       "InquiriesintheLast6Months  2500.0      0.906688      1.230410     0.0000   \n",
       "EmploymentLength           2500.0      5.491952      3.388514     1.0000   \n",
       "\n",
       "                               25%           50%         75%       max  \n",
       "AmountRequested            6000.00  10000.000000  17000.0000  35000.00  \n",
       "AmountFundedByInvestors    6000.00  10000.000000  16000.0000  35000.00  \n",
       "InterestRate                 10.16     13.110000     15.8000     24.89  \n",
       "DebtToIncomeRatio             9.75     15.320000     20.6725     34.91  \n",
       "MonthlyIncome              3500.00   5000.000000   6800.0000  18750.00  \n",
       "OpenCREDITLines               7.00      9.000000     13.0000     23.00  \n",
       "RevolvingCREDITBalance     5589.25  10977.500000  18843.7500  92407.66  \n",
       "InquiriesintheLast6Months     0.00      0.906688      1.0000      9.00  \n",
       "EmploymentLength              2.00      5.000000     10.0000     10.00  "
      ]
     },
     "execution_count": 8,
     "metadata": {},
     "output_type": "execute_result"
    }
   ],
   "source": [
    "loans_df.describe().T"
   ]
  },
  {
   "cell_type": "code",
   "execution_count": 9,
   "id": "fba1e962",
   "metadata": {},
   "outputs": [
    {
     "data": {
      "text/plain": [
       "0"
      ]
     },
     "execution_count": 9,
     "metadata": {},
     "output_type": "execute_result"
    }
   ],
   "source": [
    "loans_df.duplicated().sum()"
   ]
  },
  {
   "cell_type": "code",
   "execution_count": 10,
   "id": "2867ce45",
   "metadata": {},
   "outputs": [],
   "source": [
    "loans_df[\"FICORange\"]=(loans_df.FICORange.str[4:7].astype(int) + loans_df.FICORange.str[:3].astype(int))//2"
   ]
  },
  {
   "cell_type": "code",
   "execution_count": 11,
   "id": "c936e964",
   "metadata": {},
   "outputs": [],
   "source": [
    "loans_df[\"LoanLength\"]=loans_df.LoanLength.map({\"36 months\": 36,\"60 months\":60})"
   ]
  },
  {
   "cell_type": "markdown",
   "id": "644b22e2",
   "metadata": {},
   "source": [
    "<h3>PROBLEM 1"
   ]
  },
  {
   "cell_type": "code",
   "execution_count": 12,
   "id": "f3cb7ad9",
   "metadata": {},
   "outputs": [
    {
     "data": {
      "text/plain": [
       "(0.33244640596656827, 1.4148683739824417e-65)"
      ]
     },
     "execution_count": 12,
     "metadata": {},
     "output_type": "execute_result"
    }
   ],
   "source": [
    "#a\n",
    "\n",
    "#H0: independent variables\n",
    "#Ha : As Amount increases interest rate decreases\n",
    "#confidence : 95%\n",
    "#alpha :5%\n",
    "#test = pearsons coefficient test \n",
    "stats.pearsonr(loans_df.AmountRequested,loans_df.InterestRate)"
   ]
  },
  {
   "cell_type": "markdown",
   "id": "0eb62719",
   "metadata": {},
   "source": [
    "the r-squared suggests there is a weak positive relationship between Interest Rate and Amount Requested\n",
    "and the p value is very small giving enough evidence to reject the null hypothesis\n",
    "hence Interest rate and Amount are dependent on each other"
   ]
  },
  {
   "cell_type": "code",
   "execution_count": 13,
   "id": "c3c317ba",
   "metadata": {},
   "outputs": [
    {
     "data": {
      "text/plain": [
       "(0.42417192416620586, 9.54959606435366e-110)"
      ]
     },
     "execution_count": 13,
     "metadata": {},
     "output_type": "execute_result"
    }
   ],
   "source": [
    "#b\n",
    "\n",
    "#H0: independent Variables\n",
    "#Ha : As LoanLength increases interest rate increases\n",
    "#confidence : 95%\n",
    "#alpha :5%\n",
    "#test = pearsons coefficient test\n",
    "stats.pearsonr(loans_df.LoanLength,loans_df.InterestRate)"
   ]
  },
  {
   "cell_type": "markdown",
   "id": "b86c6b88",
   "metadata": {},
   "source": [
    "the r-squared suggests there is a moderate positive relationship between Interest Rate and Loan Length and the p value is very small giving enough evidence to reject the null hypothesis "
   ]
  },
  {
   "cell_type": "code",
   "execution_count": 14,
   "id": "a44fa6a0",
   "metadata": {},
   "outputs": [
    {
     "data": {
      "text/plain": [
       "F_onewayResult(statistic=7.482638784097435, pvalue=1.1599665535989115e-14)"
      ]
     },
     "execution_count": 14,
     "metadata": {},
     "output_type": "execute_result"
    }
   ],
   "source": [
    "#c\n",
    "\n",
    "#H0: Intrest rate is same for different purpose of loans\n",
    "#Ha : Intrest rate varies for different purpose of loans\n",
    "#confidence : 95%\n",
    "#alpha :5%\n",
    "#decision rule : +1.96>stat>-1.96\n",
    "#test = pearsons coefficient test\n",
    "seq = []\n",
    "for val in loans_df.LoanPurpose.unique():\n",
    "    seq.append(loans_df[loans_df.LoanPurpose == val].InterestRate)\n",
    "#print(len(seq))\n",
    "stats.f_oneway(seq[0],seq[1],seq[2],seq[3],seq[4],seq[5],seq[6],seq[7],seq[8],seq[9],seq[10],seq[11],seq[12],seq[13])"
   ]
  },
  {
   "cell_type": "markdown",
   "id": "f1c15bc2",
   "metadata": {},
   "source": [
    "The p value is very small giving enough evidence to reject the null hypothesis\n",
    "which means that interest rate varies for different loan purposes"
   ]
  },
  {
   "cell_type": "code",
   "execution_count": 15,
   "id": "f4f494f0",
   "metadata": {},
   "outputs": [
    {
     "data": {
      "text/plain": [
       "(0.0056728067974554115, 0.7767929930372584)"
      ]
     },
     "execution_count": 15,
     "metadata": {},
     "output_type": "execute_result"
    }
   ],
   "source": [
    "#d\n",
    "\n",
    "#H0: independent\n",
    "#Ha : People with owning home will have high FICO scores(dependent)\n",
    "#confidence : 95%\n",
    "#alpha :5%\n",
    "#decision rule : +1.96>stat>-1.96\n",
    "#test = pearsons coefficient test\n",
    "df1 = np.where(loans_df.HomeOwnership == \"OWN\",1,0)\n",
    "df2 = loans_df.FICORange\n",
    "stats.pearsonr(df1,df2)"
   ]
  },
  {
   "cell_type": "markdown",
   "id": "48dc2293",
   "metadata": {},
   "source": [
    "the r-squared suggests there is pretty weak positive relationship between Fico scores and Homeownership and the p value is very high giving enough evidence to accept the null hypothesis hence both are independent variables"
   ]
  },
  {
   "cell_type": "markdown",
   "id": "f78dcbf1",
   "metadata": {},
   "source": [
    "<h3>PROBLEM 2\n"
   ]
  },
  {
   "cell_type": "code",
   "execution_count": 16,
   "id": "9bdd3254",
   "metadata": {},
   "outputs": [],
   "source": [
    "pricing_df = pd.read_csv(\"Price_Quotes.csv\")"
   ]
  },
  {
   "cell_type": "code",
   "execution_count": 17,
   "id": "5d1e73c6",
   "metadata": {},
   "outputs": [
    {
     "data": {
      "text/plain": [
       "Ttest_indResult(statistic=-1.4147436739281787, pvalue=0.17114226132118285)"
      ]
     },
     "execution_count": 17,
     "metadata": {},
     "output_type": "execute_result"
    }
   ],
   "source": [
    "#H0: avg of MARY == avg of BARRY\n",
    "#Ha : avg of MARY != avg of BARRY\n",
    "#confidence : 95%\n",
    "#alpha :0.05\n",
    "#decision rule : +1.96>stat>-1.96\n",
    "#test = T-test\n",
    "\n",
    "stats.ttest_ind(pricing_df.Mary_Price,pricing_df.Barry_Price)"
   ]
  },
  {
   "cell_type": "markdown",
   "id": "ffa440ec",
   "metadata": {},
   "source": [
    "The p value is greater than the alpha region and there is not enough evidence to reject the null hypothesis hence we accept the null hypothesis"
   ]
  },
  {
   "cell_type": "markdown",
   "id": "e2e61586",
   "metadata": {},
   "source": [
    "<h3>PROBLEM 3"
   ]
  },
  {
   "cell_type": "code",
   "execution_count": 18,
   "id": "fa4333ee",
   "metadata": {},
   "outputs": [],
   "source": [
    "facility_df = pd.read_csv(\"Treatment_Facility.csv\")\n",
    "facility_df.rename(columns={\"VAR4\":\"TRFF\",\"VAR5\":\"CI\"},inplace=True)\n",
    "prior_df = facility_df[facility_df.Reengineer == \"Prior\"]\n",
    "post_df = facility_df[facility_df.Reengineer == \"Post\"]"
   ]
  },
  {
   "cell_type": "code",
   "execution_count": 44,
   "id": "2bb5b61b",
   "metadata": {},
   "outputs": [
    {
     "data": {
      "text/plain": [
       "Ttest_indResult(statistic=-1.770306704753604, pvalue=0.09361109345535304)"
      ]
     },
     "execution_count": 44,
     "metadata": {},
     "output_type": "execute_result"
    }
   ],
   "source": [
    "#H0: no changes\n",
    "#Ha :there were changes after the Reengineering\n",
    "#confidence : 90%\n",
    "#alpha :0.10\n",
    "#test = t test\n",
    "\n",
    "stats.ttest_ind(prior_df.Employee_Turnover,post_df.Employee_Turnover)"
   ]
  },
  {
   "cell_type": "markdown",
   "id": "07697118",
   "metadata": {},
   "source": [
    "the p value is smaller than the alpha giving enough evidence to reject the null hypothesis\n",
    "there has been an increase in people quitting after the reengineering as the stat value is in negative"
   ]
  },
  {
   "cell_type": "code",
   "execution_count": 20,
   "id": "47123a77",
   "metadata": {},
   "outputs": [
    {
     "data": {
      "text/plain": [
       "Ttest_indResult(statistic=2.7833984488804506, pvalue=0.012265082138734354)"
      ]
     },
     "execution_count": 20,
     "metadata": {},
     "output_type": "execute_result"
    }
   ],
   "source": [
    "#H0: no changes\n",
    "#Ha :there were changes after the Reengineering\n",
    "#confidence : 90%\n",
    "#alpha :0.10\n",
    "#test = t test\n",
    "\n",
    "stats.ttest_ind(prior_df.TRFF,post_df.TRFF)"
   ]
  },
  {
   "cell_type": "markdown",
   "id": "77366f6c",
   "metadata": {},
   "source": [
    "the p value is smaller than the alpha giving enough evidence to reject the null hypothesis\n",
    "there has been a decrease in residents who were temporarily removed from the facility\n",
    "after the reengineering as the stat value is in very high."
   ]
  },
  {
   "cell_type": "code",
   "execution_count": 36,
   "id": "906a96e9",
   "metadata": {},
   "outputs": [
    {
     "data": {
      "text/plain": [
       "Ttest_indResult(statistic=1.6279144253528646, pvalue=0.9395400540505793)"
      ]
     },
     "execution_count": 36,
     "metadata": {},
     "output_type": "execute_result"
    }
   ],
   "source": [
    "#H0: prior !< post\n",
    "#Ha : prior<post\n",
    "#confidence : 90%\n",
    "#alpha :0.10\n",
    "#test = t -test\n",
    "\n",
    "stats.ttest_ind(prior_df.CI,post_df.CI,alternative=\"less\")"
   ]
  },
  {
   "cell_type": "markdown",
   "id": "0427abbe",
   "metadata": {},
   "source": [
    "the p value is greater than the alpha giving enough evidence to accept the null hypothesis,\n",
    "hence we can say that CI has decreased after the reengineering\n",
    "\n"
   ]
  },
  {
   "cell_type": "markdown",
   "id": "d41130d4",
   "metadata": {},
   "source": [
    "<h3>PROBLEM 4"
   ]
  },
  {
   "cell_type": "code",
   "execution_count": 3,
   "id": "190c31e7",
   "metadata": {},
   "outputs": [],
   "source": [
    "p_asses_df = pd.read_csv(\"Priority_Assessment.csv\")"
   ]
  },
  {
   "cell_type": "code",
   "execution_count": 4,
   "id": "9fc9e244",
   "metadata": {},
   "outputs": [],
   "source": [
    "high_prio = p_asses_df[p_asses_df.Priority == \"High\"].Days\n",
    "med_prio = p_asses_df[p_asses_df.Priority == \"Medium\"].Days\n",
    "low_prio = p_asses_df[p_asses_df.Priority == \"Low\"].Days"
   ]
  },
  {
   "cell_type": "code",
   "execution_count": 8,
   "id": "496fed32",
   "metadata": {},
   "outputs": [
    {
     "data": {
      "text/plain": [
       "Ttest_indResult(statistic=0.925239411198133, pvalue=0.17761544090583975)"
      ]
     },
     "execution_count": 8,
     "metadata": {},
     "output_type": "execute_result"
    }
   ],
   "source": [
    "#H0 : high priority tasks takes less days than medium priority tasks\n",
    "#Ha : high priority tasks takes more days than medium priority tasks\n",
    "#confidence : 95%\n",
    "#alpha :0.05\n",
    "#test = t test\n",
    "\n",
    "stats.ttest_ind(high_prio,med_prio,alternative=\"greater\")"
   ]
  },
  {
   "cell_type": "markdown",
   "id": "277c9a4f",
   "metadata": {},
   "source": [
    "since the p value is higher than the alpha region we can say that we have enough evidence to accept the null hypothesis \n",
    "hence we can say that high priority tasks were done faster than the medium priority tasks"
   ]
  },
  {
   "cell_type": "code",
   "execution_count": 48,
   "id": "101f288c",
   "metadata": {},
   "outputs": [
    {
     "data": {
      "text/plain": [
       "Ttest_indResult(statistic=-2.3690822147998514, pvalue=0.9907814954922975)"
      ]
     },
     "execution_count": 48,
     "metadata": {},
     "output_type": "execute_result"
    }
   ],
   "source": [
    "#H0 : medium priority tasks takes less days than low priority tasks\n",
    "#Ha : medium priority tasks takes more days than low priority tasks\n",
    "#confidence : 95%\n",
    "#alpha :0.05\n",
    "#test = t test\n",
    "\n",
    "stats.ttest_ind(med_prio,low_prio,alternative=\"greater\")"
   ]
  },
  {
   "cell_type": "markdown",
   "id": "192591d3",
   "metadata": {},
   "source": [
    "since the p value is higher than the alpha region we can say that we have enough evidence to accept the null hypothesis \n",
    "hence we can say that medium priority tasks were done faster than the low priority tasks"
   ]
  },
  {
   "cell_type": "markdown",
   "id": "975b709a",
   "metadata": {},
   "source": [
    "<h3>PROBLEM 5"
   ]
  },
  {
   "cell_type": "code",
   "execution_count": 2,
   "id": "86f0e9bc",
   "metadata": {},
   "outputs": [],
   "source": [
    "Films = pd.read_csv(\"Films.csv\")"
   ]
  },
  {
   "cell_type": "code",
   "execution_count": 3,
   "id": "a5d7cf99",
   "metadata": {},
   "outputs": [],
   "source": [
    "Films['Hear_About'] = Films['Hear_About'].fillna(Films['Hear_About'].mode()[0])\n",
    "Films['Sinage'] = Films['Sinage'].fillna(Films['Sinage'].mode()[0])\n",
    "Films['Parking'] = Films['Parking'].fillna(Films['Parking'].mode()[0])\n",
    "Films['Clean'] = Films['Clean'].fillna(Films['Clean'].mode()[0])\n",
    "Films['Overall'] = Films['Overall'].fillna(Films['Overall'].mode()[0])\n",
    "Films['Income'] = Films['Income'].fillna(Films['Income'].mean())\n",
    "Films['Age'] = Films['Age'].fillna(Films['Age'].mode()[0])"
   ]
  },
  {
   "cell_type": "code",
   "execution_count": 4,
   "id": "603a1c7a",
   "metadata": {},
   "outputs": [],
   "source": [
    "Films[\"Gender\"] = np.where(Films.Gender.str.startswith(\"Fe\"),2,1)\n",
    "Films[\"Marital_Status\"] = np.where(Films.Marital_Status.str.startswith(\"Marr\"),1,2)\n",
    "Films[\"Hear_About\"] = Films.Hear_About.fillna(0)\n",
    "Films[\"Income\"] = Films.Income.fillna(round(Films.Income.mean()))"
   ]
  },
  {
   "cell_type": "code",
   "execution_count": 5,
   "id": "8bc9a838",
   "metadata": {},
   "outputs": [
    {
     "name": "stdout",
     "output_type": "stream",
     "text": [
      "<class 'pandas.core.frame.DataFrame'>\n",
      "RangeIndex: 330 entries, 0 to 329\n",
      "Data columns (total 11 columns):\n",
      " #   Column          Non-Null Count  Dtype  \n",
      "---  ------          --------------  -----  \n",
      " 0   _rowstate_      330 non-null    int64  \n",
      " 1   Movie           330 non-null    object \n",
      " 2   Gender          330 non-null    int32  \n",
      " 3   Marital_Status  330 non-null    int32  \n",
      " 4   Sinage          330 non-null    float64\n",
      " 5   Parking         330 non-null    float64\n",
      " 6   Clean           330 non-null    float64\n",
      " 7   Overall         330 non-null    float64\n",
      " 8   Age             330 non-null    float64\n",
      " 9   Income          330 non-null    float64\n",
      " 10  Hear_About      330 non-null    object \n",
      "dtypes: float64(6), int32(2), int64(1), object(2)\n",
      "memory usage: 25.9+ KB\n"
     ]
    }
   ],
   "source": [
    "Films.info()"
   ]
  },
  {
   "cell_type": "code",
   "execution_count": 6,
   "id": "709b37c8",
   "metadata": {},
   "outputs": [
    {
     "data": {
      "text/plain": [
       "1.621212121212121"
      ]
     },
     "execution_count": 6,
     "metadata": {},
     "output_type": "execute_result"
    }
   ],
   "source": [
    "#1 What isthe overall level of customer satisfaction?\n",
    "Films.Overall.mean()\n"
   ]
  },
  {
   "cell_type": "code",
   "execution_count": 7,
   "id": "ea391228",
   "metadata": {},
   "outputs": [
    {
     "data": {
      "text/plain": [
       "Parking    0.514429\n",
       "Sinage     0.382103\n",
       "Clean      0.350822\n",
       "Name: Overall, dtype: float64"
      ]
     },
     "execution_count": 7,
     "metadata": {},
     "output_type": "execute_result"
    }
   ],
   "source": [
    "#2 What factors are linked to satisfaction?\n",
    "\n",
    "Films.select_dtypes(\"number\").corr()[\"Overall\"].sort_values(ascending=False)[1:4]\n"
   ]
  },
  {
   "cell_type": "code",
   "execution_count": 9,
   "id": "2d564017",
   "metadata": {},
   "outputs": [
    {
     "name": "stdout",
     "output_type": "stream",
     "text": [
      "125.61859671027881 127.71945555999517 230.61691663391676\n",
      "4.53298970003405e-19 1.7772535915434025e-19 4.783162283608494e-40\n"
     ]
    }
   ],
   "source": [
    "obs_freq1 = pd.crosstab( Films.Sinage, Films.Overall )\n",
    "obs_freq2 = pd.crosstab( Films.Clean, Films.Overall )\n",
    "obs_freq3 = pd.crosstab( Films.Parking, Films.Overall )\n",
    "chi1,p1,dot1,ex1 = stats.chi2_contingency(obs_freq1)\n",
    "chi2,p2,dot2,ex2 = stats.chi2_contingency(obs_freq2)\n",
    "chi3,p3,dot3,ex3 = stats.chi2_contingency(obs_freq3)\n",
    "\n",
    "print(chi1,chi2,chi3)\n",
    "print(p1,p2,p3)"
   ]
  },
  {
   "cell_type": "markdown",
   "id": "07f546d0",
   "metadata": {},
   "source": [
    "Parking has the most positive relationship with Overall satisfaction followed by sinage and Cleanliness\n"
   ]
  },
  {
   "cell_type": "code",
   "execution_count": 10,
   "id": "80647451",
   "metadata": {},
   "outputs": [
    {
     "data": {
      "text/html": [
       "<div>\n",
       "<style scoped>\n",
       "    .dataframe tbody tr th:only-of-type {\n",
       "        vertical-align: middle;\n",
       "    }\n",
       "\n",
       "    .dataframe tbody tr th {\n",
       "        vertical-align: top;\n",
       "    }\n",
       "\n",
       "    .dataframe thead th {\n",
       "        text-align: right;\n",
       "    }\n",
       "</style>\n",
       "<table border=\"1\" class=\"dataframe\">\n",
       "  <thead>\n",
       "    <tr style=\"text-align: right;\">\n",
       "      <th></th>\n",
       "      <th></th>\n",
       "      <th>Frequency</th>\n",
       "      <th>%</th>\n",
       "    </tr>\n",
       "    <tr>\n",
       "      <th>Columns</th>\n",
       "      <th>index</th>\n",
       "      <th></th>\n",
       "      <th></th>\n",
       "    </tr>\n",
       "  </thead>\n",
       "  <tbody>\n",
       "    <tr>\n",
       "      <th rowspan=\"4\" valign=\"top\">Age</th>\n",
       "      <th>1-12</th>\n",
       "      <td>26</td>\n",
       "      <td>7.88</td>\n",
       "    </tr>\n",
       "    <tr>\n",
       "      <th>13-30</th>\n",
       "      <td>177</td>\n",
       "      <td>53.64</td>\n",
       "    </tr>\n",
       "    <tr>\n",
       "      <th>31-60</th>\n",
       "      <td>117</td>\n",
       "      <td>35.45</td>\n",
       "    </tr>\n",
       "    <tr>\n",
       "      <th>60+</th>\n",
       "      <td>10</td>\n",
       "      <td>3.03</td>\n",
       "    </tr>\n",
       "    <tr>\n",
       "      <th rowspan=\"2\" valign=\"top\">Gender</th>\n",
       "      <th>Male</th>\n",
       "      <td>311</td>\n",
       "      <td>94.24</td>\n",
       "    </tr>\n",
       "    <tr>\n",
       "      <th>Female</th>\n",
       "      <td>19</td>\n",
       "      <td>5.76</td>\n",
       "    </tr>\n",
       "    <tr>\n",
       "      <th rowspan=\"2\" valign=\"top\">Marital_Status</th>\n",
       "      <th>Married</th>\n",
       "      <td>14</td>\n",
       "      <td>4.24</td>\n",
       "    </tr>\n",
       "    <tr>\n",
       "      <th>Single</th>\n",
       "      <td>316</td>\n",
       "      <td>95.76</td>\n",
       "    </tr>\n",
       "  </tbody>\n",
       "</table>\n",
       "</div>"
      ],
      "text/plain": [
       "                        Frequency      %\n",
       "Columns        index                    \n",
       "Age            1-12            26   7.88\n",
       "               13-30          177  53.64\n",
       "               31-60          117  35.45\n",
       "               60+             10   3.03\n",
       "Gender         Male           311  94.24\n",
       "               Female          19   5.76\n",
       "Marital_Status Married         14   4.24\n",
       "               Single         316  95.76"
      ]
     },
     "execution_count": 10,
     "metadata": {},
     "output_type": "execute_result"
    }
   ],
   "source": [
    "#3 What is the demographic profile of Film on the Rocks patrons?\n",
    "\n",
    "Films.Gender.value_counts()/len(Films)*100\n",
    "age = Films.groupby(\"Age\").agg(\"count\")\n",
    "gender = Films.groupby(\"Gender\").agg(\"count\")\n",
    "marry = Films.groupby(\"Marital_Status\").agg(\"count\")\n",
    "hear = Films.groupby(\"Hear_About\").agg(\"count\")\n",
    "c_index = [\"Age\",\"Age\",\"Age\",\"Age\",\"Gender\",\"Gender\",\"Marital_Status\",\"Marital_Status\"]\n",
    "index = [\"1-12\",\"13-30\",\"31-60\",\"60+\",\"Male\",\"Female\",\"Married\",\"Single\"]\n",
    "df = pd.concat([age,gender,marry]).reset_index()\n",
    "df[\"index\"] = index\n",
    "df[\"Columns\"] = c_index\n",
    "df = df.set_index([\"Columns\",\"index\"])\n",
    "df = df.iloc[:,0:1]\n",
    "df.columns = [\"Frequency\"] \n",
    "df[\"%\"] = round(df.Frequency / 330 * 100,2)\n",
    "df"
   ]
  },
  {
   "cell_type": "code",
   "execution_count": 36,
   "id": "0425ef58",
   "metadata": {},
   "outputs": [
    {
     "name": "stdout",
     "output_type": "stream",
     "text": [
      "Failed to reject the null hypothesis\n"
     ]
    }
   ],
   "source": [
    "\n",
    "#4 In what media outlet(s) should the film series be advertised?\n",
    "\n",
    "# H0: There is no relationship between overall ratings and hear_abouts\n",
    "# Ha : There is a relationship \n",
    "# confidence = 95% , alpha = 0.05\n",
    "# Chi squared test\n",
    "\n",
    "obs1 = pd.crosstab(Films.Overall,Films.Hear_About)\n",
    "chi_stats ,pvalue,dof,expected = stats.chi2_contingency(obs1)\n",
    "\n",
    "if pvalue > 0.05:\n",
    "    print(\"Failed to reject the null hypothesis\")\n",
    "else:\n",
    "    print(\"Rejected the null hypothesis\")"
   ]
  },
  {
   "cell_type": "code",
   "execution_count": 39,
   "id": "f0a26bae",
   "metadata": {},
   "outputs": [],
   "source": [
    "fd = Films.Hear_About.value_counts()"
   ]
  },
  {
   "cell_type": "code",
   "execution_count": 71,
   "id": "26ceb127",
   "metadata": {},
   "outputs": [
    {
     "data": {
      "text/html": [
       "<div>\n",
       "<style scoped>\n",
       "    .dataframe tbody tr th:only-of-type {\n",
       "        vertical-align: middle;\n",
       "    }\n",
       "\n",
       "    .dataframe tbody tr th {\n",
       "        vertical-align: top;\n",
       "    }\n",
       "\n",
       "    .dataframe thead th {\n",
       "        text-align: right;\n",
       "    }\n",
       "</style>\n",
       "<table border=\"1\" class=\"dataframe\">\n",
       "  <thead>\n",
       "    <tr style=\"text-align: right;\">\n",
       "      <th></th>\n",
       "      <th>Frequency</th>\n",
       "    </tr>\n",
       "  </thead>\n",
       "  <tbody>\n",
       "    <tr>\n",
       "      <th>word of mouth</th>\n",
       "      <td>239</td>\n",
       "    </tr>\n",
       "    <tr>\n",
       "      <th>website</th>\n",
       "      <td>45</td>\n",
       "    </tr>\n",
       "    <tr>\n",
       "      <th>television</th>\n",
       "      <td>23</td>\n",
       "    </tr>\n",
       "    <tr>\n",
       "      <th>radio</th>\n",
       "      <td>17</td>\n",
       "    </tr>\n",
       "    <tr>\n",
       "      <th>newspaper</th>\n",
       "      <td>14</td>\n",
       "    </tr>\n",
       "  </tbody>\n",
       "</table>\n",
       "</div>"
      ],
      "text/plain": [
       "               Frequency\n",
       "word of mouth        239\n",
       "website               45\n",
       "television            23\n",
       "radio                 17\n",
       "newspaper             14"
      ]
     },
     "execution_count": 71,
     "metadata": {},
     "output_type": "execute_result"
    }
   ],
   "source": [
    "values = {1:0,2:0,3:0,4:0,5:0}\n",
    "for val in fd.index :\n",
    "    if val.startswith(\"1\") or val.endswith(\"1\"):\n",
    "        values[1]=fd[val]+values[1]\n",
    "    if val.startswith(\"2\") or val.endswith(\"2\"):\n",
    "        values[2]=fd[val]+values[2]\n",
    "    if val.startswith(\"3\") or val.endswith(\"3\"):\n",
    "        values[3]=fd[val]+values[3]\n",
    "    if val.startswith(\"4\") or val.endswith(\"4\"):\n",
    "        values[4]=fd[val]+values[4]\n",
    "    if val.startswith(\"5\") or val.endswith(\"5\"):\n",
    "        values[5]=fd[val]+values[5]\n",
    "        \n",
    "df = pd.DataFrame(values.values(),index=values.keys(),columns=[\"Frequency\"]).sort_values(by=\"Frequency\",ascending=False)\n",
    "df.index = np.where(df.index ==  1 ,\"television\",np.where(df.index == 2 ,\"newspaper\",np.where(df.index == 3, \"radio\",np.where(df.index == 4 ,\"website\", \"word of mouth\"))))\n",
    "df"
   ]
  },
  {
   "cell_type": "markdown",
   "id": "ad1cc9f2",
   "metadata": {},
   "source": [
    "the best working advertisement method is the word of mouth with the highest number of people \n",
    "where website advertising comes second"
   ]
  },
  {
   "cell_type": "code",
   "execution_count": null,
   "id": "08fc9096",
   "metadata": {},
   "outputs": [],
   "source": []
  }
 ],
 "metadata": {
  "kernelspec": {
   "display_name": "Python 3 (ipykernel)",
   "language": "python",
   "name": "python3"
  },
  "language_info": {
   "codemirror_mode": {
    "name": "ipython",
    "version": 3
   },
   "file_extension": ".py",
   "mimetype": "text/x-python",
   "name": "python",
   "nbconvert_exporter": "python",
   "pygments_lexer": "ipython3",
   "version": "3.9.7"
  }
 },
 "nbformat": 4,
 "nbformat_minor": 5
}
